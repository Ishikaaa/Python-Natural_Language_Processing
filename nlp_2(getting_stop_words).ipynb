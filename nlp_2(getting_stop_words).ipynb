{
 "cells": [
  {
   "cell_type": "code",
   "execution_count": 1,
   "metadata": {},
   "outputs": [
    {
     "name": "stdout",
     "output_type": "stream",
     "text": [
      "Modules imported successfully\n"
     ]
    }
   ],
   "source": [
    "from nltk.corpus import stopwords \n",
    "from nltk.tokenize import word_tokenize \n",
    "print(\"Modules imported successfully\")"
   ]
  },
  {
   "cell_type": "code",
   "execution_count": 2,
   "metadata": {},
   "outputs": [
    {
     "name": "stdout",
     "output_type": "stream",
     "text": [
      "{\"couldn't\", 'yours', 'in', 'that', 'any', 'all', 'and', 'once', 'ourselves', 'because', 'shouldn', 'haven', 'couldn', \"shouldn't\", 'about', \"wouldn't\", 'between', 'then', \"should've\", 're', 'its', 'yourself', 'he', 'doesn', 'having', \"won't\", 'few', \"haven't\", 'have', \"didn't\", 'a', 'mustn', 'while', 'isn', 'only', 'if', 'most', 'how', 'those', 'just', 'so', 's', 'but', 'nor', \"you'll\", 'into', 'from', 'hasn', 'do', 'some', 'over', 'himself', 'don', 'why', 'yourselves', 'who', 'been', 'an', 'as', 'by', 'his', 'too', 'the', 'my', 'your', 'itself', 'above', 'they', \"that'll\", 'very', 'now', 'with', 'needn', 'these', \"doesn't\", \"aren't\", \"wasn't\", 'their', 'out', 'm', 'll', 'down', \"she's\", 'ain', 'didn', 'not', 'him', 'are', 'up', 'd', 'until', 'does', 'this', 'before', 'again', \"mightn't\", 'hers', \"isn't\", 'each', 'her', 'o', 'at', 'aren', \"you've\", 'here', 'our', 'there', 'further', 'when', \"hasn't\", 'them', 'was', \"don't\", 'y', 'which', 'themselves', 'doing', 'under', 'theirs', 'wouldn', 'such', 'on', \"you're\", 'mightn', 've', 'through', 'same', 'it', 'where', 'hadn', \"hadn't\", 'she', 'other', \"shan't\", \"mustn't\", 'be', 'shan', 'am', 'to', 'what', 'is', 'has', \"you'd\", 'below', 'myself', 'we', \"needn't\", 'will', 'were', 'or', 'i', 'both', 't', 'own', 'against', 'off', 'you', 'should', 'me', 'ours', 'for', 'won', 'during', 'had', 'no', 'wasn', 'being', 'more', 'weren', 'whom', 'can', \"it's\", 'herself', 'ma', 'after', 'of', 'than', 'did', \"weren't\"}\n"
     ]
    }
   ],
   "source": [
    "sentencee=\"Hello Friends. I am Ishika Garg. In this, I am gonna find stop words.\"\n",
    "# we have to give language. For e.g. - english \n",
    "stopp=set(stopwords.words(\"english\"))\n",
    "print(stopp) "
   ]
  },
  {
   "cell_type": "code",
   "execution_count": 3,
   "metadata": {},
   "outputs": [],
   "source": [
    "wordss=word_tokenize(sentencee)\n",
    "useful_words=[]"
   ]
  },
  {
   "cell_type": "code",
   "execution_count": 4,
   "metadata": {},
   "outputs": [
    {
     "name": "stdout",
     "output_type": "stream",
     "text": [
      "['Hello', 'Friends', '.', 'I', 'Ishika', 'Garg', '.', 'In', ',', 'I', 'gon', 'na', 'find', 'stop', 'words', '.']\n"
     ]
    }
   ],
   "source": [
    "for i in wordss:\n",
    "    if i not in stopp:\n",
    "        useful_words.append(i)\n",
    "print(useful_words)        "
   ]
  },
  {
   "cell_type": "code",
   "execution_count": null,
   "metadata": {},
   "outputs": [],
   "source": [
    "##############################################  OR  ##############################################"
   ]
  },
  {
   "cell_type": "code",
   "execution_count": 5,
   "metadata": {},
   "outputs": [
    {
     "name": "stdout",
     "output_type": "stream",
     "text": [
      "['Hello', 'Friends', '.', 'I', 'Ishika', 'Garg', '.', 'In', ',', 'I', 'gon', 'na', 'find', 'stop', 'words', '.']\n"
     ]
    }
   ],
   "source": [
    "useful_words1=[i for i in wordss if not i in stopp]\n",
    "print(useful_words1)"
   ]
  }
 ],
 "metadata": {
  "kernelspec": {
   "display_name": "Python 3",
   "language": "python",
   "name": "python3"
  },
  "language_info": {
   "codemirror_mode": {
    "name": "ipython",
    "version": 3
   },
   "file_extension": ".py",
   "mimetype": "text/x-python",
   "name": "python",
   "nbconvert_exporter": "python",
   "pygments_lexer": "ipython3",
   "version": "3.7.3"
  }
 },
 "nbformat": 4,
 "nbformat_minor": 2
}
